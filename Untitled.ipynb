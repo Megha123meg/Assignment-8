{
 "cells": [
  {
   "cell_type": "markdown",
   "id": "1525856a",
   "metadata": {},
   "source": [
    "1. In Python, what is the difference between a built-in function and a user-defined function? Provide an example of each.\n",
    "A.1.Built-in Function:\n",
    "Built-in functions are pre-defined functions provided by the Python programming language. They are readily available for use in any Python program without requiring any additional code or imports. These functions are part of the Python standard library and cover a wide range of functionalities.\n",
    "\n",
    "Example: The 'len()' function is a built-in function that returns the length of an object. It can be used to find the length of a string, list, tuple, or any other iterable."
   ]
  },
  {
   "cell_type": "code",
   "execution_count": 1,
   "id": "f429fabb",
   "metadata": {},
   "outputs": [
    {
     "name": "stdout",
     "output_type": "stream",
     "text": [
      "22\n"
     ]
    }
   ],
   "source": [
    "my_string = \"Hello,This is Meghana!\"\n",
    "length = len(my_string)\n",
    "print(length)  "
   ]
  },
  {
   "cell_type": "markdown",
   "id": "f02a2b8f",
   "metadata": {},
   "source": [
    "2.User-defined Function: User-defined functions are created by the programmer to perform specific tasks based on their requirements. These functions are defined using the 'def' keyword and can be called or invoked later in the program. User-defined functions offer the flexibility to encapsulate a piece of code and reuse it multiple times.\n",
    "\n",
    "Here's an example of a user-defined function called 'add_numbers()' that takes two numbers as arguments and returns their sum."
   ]
  },
  {
   "cell_type": "code",
   "execution_count": 2,
   "id": "94e28c6c",
   "metadata": {},
   "outputs": [
    {
     "name": "stdout",
     "output_type": "stream",
     "text": [
      "28\n"
     ]
    }
   ],
   "source": [
    "def add_numbers(a, b):\n",
    "    return a + b\n",
    "\n",
    "result = add_numbers(12,16)\n",
    "print(result)  "
   ]
  },
  {
   "cell_type": "markdown",
   "id": "9509af02",
   "metadata": {},
   "source": [
    "The main distinction between built-in functions and user-defined functions is that built-in functions are already provided by Python, while user-defined functions are created by the programmer. Built-in functions are accessible without additional setup, whereas user-defined functions need to be defined by the programmer before they can be used."
   ]
  },
  {
   "cell_type": "markdown",
   "id": "f80ce28d",
   "metadata": {},
   "source": [
    "2. How can you pass arguments to a function in Python? Explain the difference between positional arguments and keyword arguments.\n",
    "A.In Python, you can pass arguments to a function in several ways:\n",
    "\n",
    "1.Positional Arguments:\n",
    "Positional arguments are passed to a function based on their position or order. The arguments are matched with the function parameters in the order they are passed. The number and order of the arguments must match the function definition for positional arguments.\n",
    "Example:"
   ]
  },
  {
   "cell_type": "code",
   "execution_count": 3,
   "id": "d8ac1a83",
   "metadata": {},
   "outputs": [
    {
     "name": "stdout",
     "output_type": "stream",
     "text": [
      "Hello Meghana !\n",
      "You are 22 years old.\n"
     ]
    }
   ],
   "source": [
    "def greet(name, age):\n",
    "    print(\"Hello\", name, \"!\")\n",
    "    print(\"You are\", age, \"years old.\")\n",
    "\n",
    "greet(\"Meghana\",22)"
   ]
  },
  {
   "cell_type": "markdown",
   "id": "28d8efa4",
   "metadata": {},
   "source": [
    "2.Keyword Arguments: Keyword arguments are passed to a function using the parameter names along with their corresponding values. This way, the order of the arguments doesn't matter, as the function matches the values with the parameter names. Example:"
   ]
  },
  {
   "cell_type": "code",
   "execution_count": 4,
   "id": "fd099128",
   "metadata": {},
   "outputs": [
    {
     "name": "stdout",
     "output_type": "stream",
     "text": [
      "Hello Meghana !\n",
      "You are 22 years old.\n"
     ]
    }
   ],
   "source": [
    "def greet(name, age):\n",
    "    print(\"Hello\", name, \"!\")\n",
    "    print(\"You are\", age, \"years old.\")\n",
    "\n",
    "greet(age=22, name=\"Meghana\")"
   ]
  },
  {
   "cell_type": "markdown",
   "id": "86b26546",
   "metadata": {},
   "source": [
    "3. What is the purpose of the return statement in a function? Can a function have multiple return\n",
    "   statements? Explain with an example.\n",
    "A.The return statement in a function is used to specify the value or values that the function should return when it is called. It allows a function to compute a result and send it back to the code that called the function. The return statement terminates the execution of the function and passes the specified value(s) back to the caller.\n",
    "\n",
    "A function can have multiple return statements, but only one return statement is executed during the function call. When a return statement is encountered, the function immediately exits, and the value specified in the return statement is returned. Therefore, any code after the return statement in the same block is not executed.\n",
    "\n",
    "Example to illustrate the use of return statements and multiple return points in a function:"
   ]
  },
  {
   "cell_type": "code",
   "execution_count": 5,
   "id": "050a48e8",
   "metadata": {},
   "outputs": [
    {
     "name": "stdout",
     "output_type": "stream",
     "text": [
      "25\n",
      "75\n",
      "Invalid weight\n"
     ]
    }
   ],
   "source": [
    "def calculate_shipping_cost(weight):\n",
    "    if weight <= 0:\n",
    "        return \"Invalid weight\"  # First return statement\n",
    "    elif weight <= 15:\n",
    "        cost = weight * 5\n",
    "        return cost  # Second return statement\n",
    "    else:\n",
    "        cost = weight * 3\n",
    "        return cost  # Third return statement\n",
    "\n",
    "# Function calls\n",
    "result1 = calculate_shipping_cost(5)\n",
    "print(result1)  # Output: 25\n",
    "\n",
    "result2 = calculate_shipping_cost(15)\n",
    "print(result2)  # Output: 45\n",
    "\n",
    "result3 = calculate_shipping_cost(-2)\n",
    "print(result3)  # Output: Invalid weight"
   ]
  },
  {
   "cell_type": "markdown",
   "id": "83312df4",
   "metadata": {},
   "source": [
    "In this example, the function calculate_shipping_cost() takes a weight parameter and calculates the shipping cost based on different conditions. It has three return statements:\n",
    "\n",
    "1.If the weight is less than or equal to 0, the function returns the string \"Invalid weight.\" \n",
    "2.If the weight is less than or equal to 10, the function calculates the cost and returns it. \n",
    "3.If the weight is greater than 10, the function calculates a different cost and returns it. When the function is called with different weights, the appropriate return statement is executed, and the corresponding value is returned. This demonstrates how a function can have multiple return statements to handle different scenarios and provide different results."
   ]
  },
  {
   "cell_type": "markdown",
   "id": "a2d6598f",
   "metadata": {},
   "source": [
    "4. What are lambda functions in Python? How are they different from regular functions? Provide an\n",
    "   example where a lambda function can be useful.\n",
    "A.Lambda Function\n",
    "here are some key points about lambda functions in Python, each point is a one-liner:\n",
    "\n",
    "1.Lambda functions are small, anonymous functions defined with the lambda keyword.\n",
    "2.They can take any number of arguments but can only have one expression.\n",
    "3.The expression is evaluated and returned when the function is called.\n",
    "4.Lambda functions do not require a return statement, the expression is implicitly returned.\n",
    "5.They can be used wherever function objects are required, like inside functions like map(), filter(), and reduce().\n",
    "6.You can't include statements like loops, if, or else in lambda functions; only expressions are allowed.\n",
    "7.Lambda functions are useful for small tasks that are not reused throughout your code.\n",
    "8.They can be assigned to variables and used like regular functions.\n",
    "Lambda functions are especially useful when you want to define a small function to pass as an argument to another function.\n",
    "They're often used with functions like map(), filter(), reduce(), and sorted()."
   ]
  },
  {
   "cell_type": "code",
   "execution_count": 6,
   "id": "7dbb8910",
   "metadata": {},
   "outputs": [
    {
     "name": "stdout",
     "output_type": "stream",
     "text": [
      "[1, 9, 16, 25, 49]\n"
     ]
    }
   ],
   "source": [
    "lambda_function = lambda x: [i ** 2 for i in x]\n",
    "print(lambda_function([1, 3, 4, 5,7]))  "
   ]
  },
  {
   "cell_type": "markdown",
   "id": "90b306f8",
   "metadata": {},
   "source": [
    "Let's take a real-world use case involving sorting:\n",
    "\n",
    "Consider you have a list of dictionaries, where each dictionary represents a product with a name and a price. You want to sort this list of products based on the price."
   ]
  },
  {
   "cell_type": "code",
   "execution_count": 7,
   "id": "e7ad52f5",
   "metadata": {},
   "outputs": [
    {
     "name": "stdout",
     "output_type": "stream",
     "text": [
      "{'name': 'Product3', 'price': 10}\n",
      "{'name': 'Product4', 'price': 20}\n",
      "{'name': 'Product2', 'price': 30}\n",
      "{'name': 'Product1', 'price': 60}\n"
     ]
    }
   ],
   "source": [
    "# A list of dictionaries is created, where each dictionary represents a product. \n",
    "# Each product has two properties: 'name' and 'price'.\n",
    "\n",
    "products = [\n",
    "    {'name': 'Product1', 'price': 60},\n",
    "    {'name': 'Product2', 'price': 30},\n",
    "    {'name': 'Product3', 'price': 10},\n",
    "    {'name': 'Product4', 'price': 20},\n",
    "]\n",
    "\n",
    "# The products list and a lambda function are passed to the sorted() method. \n",
    "# The sorted() function's key parameter accepts a function as an argument. \n",
    "# This function generates a'sorting key' for each entry in the list.\n",
    "\n",
    "# In this case, the lambda function lambda x: x['price'] takes an argument (a dictionary) and returns the value of its 'price' key. \n",
    "# These pricing values are used by the sorted() method to compare products and determine their rank in the sorted list.\n",
    "\n",
    "sorted_products = sorted(products, key=lambda x: x['price'])\n",
    "\n",
    "for product in sorted_products:\n",
    "    print(product)"
   ]
  },
  {
   "cell_type": "markdown",
   "id": "6c7e955f",
   "metadata": {},
   "source": [
    "5. How does the concept of \"scope\" apply to functions in Python? Explain the difference between local\n",
    "   scope and global scope.\n",
    "A.In Python, \"scope\" refers to the region or context in which a variable, function, or object is defined and can be accessed. The concept of scope determines the visibility and accessibility of names (variables, functions, etc.) within a program.\n",
    "\n",
    "1.Local Scope:\n",
    "Local scope, also known as function scope, refers to the scope within a specific function. Variables defined within a function have local scope and are accessible only within that function. Local variables are not accessible outside of the function.\n",
    "Example:"
   ]
  },
  {
   "cell_type": "code",
   "execution_count": 8,
   "id": "fad83ced",
   "metadata": {},
   "outputs": [
    {
     "name": "stdout",
     "output_type": "stream",
     "text": [
      "10\n"
     ]
    },
    {
     "ename": "NameError",
     "evalue": "name 'x' is not defined",
     "output_type": "error",
     "traceback": [
      "\u001b[1;31m---------------------------------------------------------------------------\u001b[0m",
      "\u001b[1;31mNameError\u001b[0m                                 Traceback (most recent call last)",
      "Cell \u001b[1;32mIn[8], line 6\u001b[0m\n\u001b[0;32m      3\u001b[0m     \u001b[38;5;28mprint\u001b[39m(x)\n\u001b[0;32m      5\u001b[0m my_function()  \u001b[38;5;66;03m# Output: 10\u001b[39;00m\n\u001b[1;32m----> 6\u001b[0m \u001b[38;5;28mprint\u001b[39m(\u001b[43mx\u001b[49m)\n",
      "\u001b[1;31mNameError\u001b[0m: name 'x' is not defined"
     ]
    }
   ],
   "source": [
    "def my_function():\n",
    "    x = 10  # Local variable\n",
    "    print(x)\n",
    "\n",
    "my_function()  # Output: 10\n",
    "print(x)  # Raises NameError: name 'x' is not defined"
   ]
  },
  {
   "cell_type": "markdown",
   "id": "75623945",
   "metadata": {},
   "source": [
    "In the above example, the variable x is defined within the my_function() function. It has local scope and can be accessed only within the function. Trying to access the variable x outside of the function will result in a NameError\n",
    "\n",
    "2.Global Scope: Global scope refers to the scope that is accessible throughout the entire program. Variables defined outside of any function or at the global level have global scope and can be accessed from anywhere within the program. Example:"
   ]
  },
  {
   "cell_type": "code",
   "execution_count": 9,
   "id": "1a438e79",
   "metadata": {},
   "outputs": [
    {
     "name": "stdout",
     "output_type": "stream",
     "text": [
      "10\n",
      "10\n"
     ]
    }
   ],
   "source": [
    "x = 10  # Global variable\n",
    "\n",
    "def my_function():\n",
    "    print(x)\n",
    "\n",
    "my_function()  \n",
    "print(x)  "
   ]
  },
  {
   "cell_type": "markdown",
   "id": "9129c6f4",
   "metadata": {},
   "source": [
    "In the above example, the variable x is defined outside of any function, making it a global variable. It can be accessed both inside and outside of the my_function() function.\n",
    "\n",
    "If a variable is assigned a value within a function and that variable is not declared as global, it will be considered as a local variable, even if a variable with the same name exists in the global scope.\n",
    "\n",
    "Example:"
   ]
  },
  {
   "cell_type": "code",
   "execution_count": 10,
   "id": "c18cc6d9",
   "metadata": {},
   "outputs": [
    {
     "name": "stdout",
     "output_type": "stream",
     "text": [
      "20\n",
      "10\n"
     ]
    }
   ],
   "source": [
    "x = 10  # Global variable\n",
    "\n",
    "def my_function():\n",
    "    x = 20  # Local variable with the same name\n",
    "    print(x)\n",
    "\n",
    "my_function()  # Output: 20\n",
    "print(x)  # Output: 10 (global variable value remains unchanged)"
   ]
  },
  {
   "cell_type": "markdown",
   "id": "ab40b2a5",
   "metadata": {},
   "source": [
    "In this example, the variable x is assigned a different value within the my_function() function, creating a new local variable that shadows the global variable with the same name.\n",
    "\n",
    "If we want to modify a global variable within a function, we need to use the global keyword to indicate that we want to refer to the global variable instead of creating a new local variable.\n",
    "\n",
    "Example:"
   ]
  },
  {
   "cell_type": "code",
   "execution_count": 11,
   "id": "0bbee071",
   "metadata": {},
   "outputs": [
    {
     "name": "stdout",
     "output_type": "stream",
     "text": [
      "20\n",
      "20\n"
     ]
    }
   ],
   "source": [
    "x = 10  # Global variable\n",
    "\n",
    "def my_function():\n",
    "    global x  # Using the global keyword\n",
    "    x = 20  # Modifying the global variable\n",
    "    print(x)\n",
    "\n",
    "my_function()  # Output: 20\n",
    "print(x)  # Output: 20 (global variable value is modified)"
   ]
  },
  {
   "cell_type": "markdown",
   "id": "bc9786ef",
   "metadata": {},
   "source": [
    "By using the global keyword, we can modify the value of the global variable x within the function.\n",
    "\n",
    "The scope in Python determines the visibility and accessibility of names (variables, functions, etc.). Local scope refers to the scope within a function, where variables are accessible only within that function. Global scope refers to the scope accessible throughout the entire program, where variables can be accessed from anywhere within the program. It's important to distinguish between local and global scopes to avoid naming conflicts and to ensure that variables are accessed and modified correctly within functions."
   ]
  },
  {
   "cell_type": "markdown",
   "id": "5b89e0cf",
   "metadata": {},
   "source": [
    "6. How can you use the \"return\" statement in a Python function to return multiple values?\n",
    "1.In Python, you can use the return statement in a function to return multiple values by returning them as a tuple, a list, or any other iterable object. Here are a few approaches to achieve this:\n",
    "\n",
    "1.Returning a Tuple:\n",
    "You can pack multiple values into a tuple and return it from the function. The caller can then unpack the tuple into separate variables.\n",
    "Example:"
   ]
  },
  {
   "cell_type": "code",
   "execution_count": 12,
   "id": "9bea3c05",
   "metadata": {},
   "outputs": [
    {
     "name": "stdout",
     "output_type": "stream",
     "text": [
      "Meghana 22 Vizianagaram\n"
     ]
    }
   ],
   "source": [
    "def get_user_info():\n",
    "    name = \"Meghana\"\n",
    "    age = 22\n",
    "    city = \"Vizianagaram\"\n",
    "    return name, age, city\n",
    "\n",
    "user_info = get_user_info()\n",
    "name, age, city = user_info\n",
    "print(name, age, city) "
   ]
  },
  {
   "cell_type": "markdown",
   "id": "48657c04",
   "metadata": {},
   "source": [
    "In this example, the function get_user_info() returns a tuple containing the user's name, age, and city. The returned tuple is unpacked into separate variables name, age, and city using multiple assignment.\n",
    "\n",
    "2.Returning a List: Similar to returning a tuple, you can pack the values into a list and return it from the function. The caller can then access the individual elements of the list. Example:"
   ]
  },
  {
   "cell_type": "code",
   "execution_count": 13,
   "id": "d25a808f",
   "metadata": {},
   "outputs": [
    {
     "name": "stdout",
     "output_type": "stream",
     "text": [
      "Meghana 22 Vizianagaram\n"
     ]
    }
   ],
   "source": [
    "def get_user_info():\n",
    "    name = \"Meghana\"\n",
    "    age =22\n",
    "    city = \"Vizianagaram\"\n",
    "    return [name, age, city]\n",
    "\n",
    "user_info = get_user_info()\n",
    "name = user_info[0]\n",
    "age = user_info[1]\n",
    "city = user_info[2]\n",
    "print(name, age, city)  "
   ]
  },
  {
   "cell_type": "markdown",
   "id": "5b801f61",
   "metadata": {},
   "source": [
    "Here, the function get_user_info() returns a list containing the user's information. The caller can access the elements of the list by indexing."
   ]
  },
  {
   "cell_type": "markdown",
   "id": "2ea9112e",
   "metadata": {},
   "source": [
    "7. What is the difference between the \"pass by value\" and \"pass by reference\" concepts when it\n",
    "   comes to function arguments in Python?\n",
    "A.In Python, the concepts of \"pass by value\" and \"pass by reference\" are not applicable in the same way as in some other programming languages like C++. Instead, Python adopts a different approach that can be described as \"pass by assignment\" or \"pass by object reference.\" Understanding this concept requires understanding how variables and objects work in Python.\n",
    "\n",
    "In Python, variables are references to objects rather than direct containers of values. When passing arguments to a function, what gets passed is a reference to an object. However, the behavior can vary depending on the type of object being referenced.\n",
    "\n",
    "1.Immutable Objects (e.g., numbers, strings, tuples):\n",
    "When an immutable object is passed as an argument to a function, a new reference to the same object is created within the function's local scope. Any modifications made to the parameter within the function do not affect the original object.\n",
    "\n",
    "Example:"
   ]
  },
  {
   "cell_type": "code",
   "execution_count": 14,
   "id": "4809d9af",
   "metadata": {},
   "outputs": [
    {
     "name": "stdout",
     "output_type": "stream",
     "text": [
      "Inside function: 20\n",
      "Outside function: 5\n"
     ]
    }
   ],
   "source": [
    "def modify_number(num):\n",
    "    num += 15\n",
    "    print(\"Inside function:\", num)\n",
    "\n",
    "x = 5\n",
    "modify_number(x)\n",
    "print(\"Outside function:\", x)\n"
   ]
  },
  {
   "cell_type": "markdown",
   "id": "1a6da31a",
   "metadata": {},
   "source": [
    "In this example, the variable x is an immutable object (integer). When x is passed to the modify_number() function, a new reference num is created, and the value of num is modified. However, the original variable x remains unchanged.\n",
    "\n",
    "2.Mutable Objects (e.g., lists, dictionaries): When a mutable object is passed as an argument to a function, the reference to the object is passed. Any modifications made to the object within the function can affect the original object, as both references point to the same object in memory.\n",
    "\n",
    "Example:"
   ]
  },
  {
   "cell_type": "code",
   "execution_count": 15,
   "id": "2aba4e30",
   "metadata": {},
   "outputs": [
    {
     "name": "stdout",
     "output_type": "stream",
     "text": [
      "Inside function: ['Hello', 2, 3, 6]\n",
      "Outside function: ['Hello', 2, 3, 6]\n"
     ]
    }
   ],
   "source": [
    "def modify_list(lst):\n",
    "    lst.append(6)\n",
    "    lst[0] = \"Hello\"\n",
    "    print(\"Inside function:\", lst)\n",
    "\n",
    "my_list = [1, 2, 3]\n",
    "modify_list(my_list)\n",
    "print(\"Outside function:\", my_list)\n"
   ]
  },
  {
   "cell_type": "markdown",
   "id": "292bc208",
   "metadata": {},
   "source": [
    "In this example, the variable my_list is a mutable object (list). When my_list is passed to the modify_list() function, the function modifies the list by appending an element and changing the value of an existing element. These modifications are visible both inside and outside the function because the reference to the same list is passed.\n",
    "\n",
    "In Python, the \"pass by assignment\" concept is applied. Immutable objects are effectively passed by value because any modifications made to the function parameter do not affect the original object. Mutable objects, on the other hand, are effectively passed by reference because changes made within the function can affect the original object. It's important to consider the mutability of objects when working with function arguments in Python."
   ]
  },
  {
   "cell_type": "markdown",
   "id": "163a3b08",
   "metadata": {},
   "source": [
    "8. Create a function that can intake integer or decimal value and do following operations:\n",
    "a. Logarithmic function (log x)\n",
    "b. Exponential function (exp(x))\n",
    "c. Power function with base 2 (2\n",
    "x\n",
    ")\n",
    "d. Square root\n",
    "A.Certainly! Here's a Python function that can perform logarithmic, exponential, power (base 2), and square root operations on an integer or decimal value:"
   ]
  },
  {
   "cell_type": "code",
   "execution_count": null,
   "id": "cb2bacb6",
   "metadata": {},
   "outputs": [],
   "source": [
    "import math\n",
    "\n",
    "def perform_operations(num):\n",
    "    result = {}\n",
    "    result['logarithm'] = math.log(num)\n",
    "    result['exponential'] = math.exp(num)\n",
    "    result['power'] = 2 ** num\n",
    "    result['square_root'] = math.sqrt(num)\n",
    "    return result\n"
   ]
  },
  {
   "cell_type": "markdown",
   "id": "0fce7466",
   "metadata": {},
   "source": [
    "In this function, the math module is imported to access the mathematical functions. The perform_operations() function takes a parameter num, which can be an integer or a decimal value.\n",
    "\n",
    "The function calculates the logarithm of num using the math.log() function, the exponential of num using the math.exp() function, the power of num with base 2 using the ** operator, and the square root of num using the math.sqrt() function.\n",
    "\n",
    "The results of these calculations are stored in a dictionary called result, where the keys represent the operation names ('logarithm', 'exponential', 'power', 'square_root') and the values represent the corresponding results.\n",
    "\n",
    "Finally, the result dictionary is returned from the function.\n",
    "\n",
    "Here's an example of how to use this function:"
   ]
  },
  {
   "cell_type": "markdown",
   "id": "de1fa365",
   "metadata": {},
   "source": [
    "number = 4.0\n",
    "operations_result = perform_operations(number)\n",
    "\n",
    "print(\"Logarithm:\", operations_result['logarithm'])\n",
    "print(\"Exponential:\", operations_result['exponential'])\n",
    "print(\"Power (base 2):\", operations_result['power'])\n",
    "print(\"Square Root:\", operations_result['square_root'])\n",
    "\n",
    "#output Logarithm: 1.3862943611198906\n",
    "Exponential: 54.598150033144236\n",
    "Power (base 2): 16.0\n",
    "Square Root: 2.0\n",
    "\n",
    "In this example, the function is called with the number variable set to 4.0. The results of the mathematical operations are stored in operations_result, and then each result is printed individually.\n",
    "\n",
    "You can pass any integer or decimal value to the perform_operations() function to perform the desired mathematical operations on that value."
   ]
  },
  {
   "cell_type": "markdown",
   "id": "9d49bbc4",
   "metadata": {},
   "source": [
    "9. Create a function that takes a full name as an argument and returns first name and last name.\n",
    "A. Here's a Python function that takes a full name as an argument and returns the first name and last name:\n",
    "def get_first_last_name(full_name):\n",
    "    names = full_name.split()\n",
    "    first_name = names[0]\n",
    "    last_name = names[-1]\n",
    "    return first_name, last_name\n",
    "In this function, the get_first_last_name() function takes a parameter full_name, which is a string representing the full name.\n",
    "\n",
    "The function splits the full name using the split() method, which separates the name into individual words based on whitespace. The resulting words are stored in the names list.\n",
    "\n",
    "The first name is extracted from the names list by accessing the element at index 0, and the last name is extracted by accessing the last element of the list using the index -1.\n",
    "\n",
    "Finally, the function returns a tuple containing the first name and last name.\n",
    "\n",
    "Here's an example of how to use this function:"
   ]
  },
  {
   "cell_type": "code",
   "execution_count": 19,
   "id": "18700076",
   "metadata": {},
   "outputs": [
    {
     "name": "stdout",
     "output_type": "stream",
     "text": [
      "('Meghana', 'Munjeti')\n"
     ]
    }
   ],
   "source": [
    "def get_first_last_name(full_name):\n",
    "    names = full_name.split()\n",
    "    first_name = names[0]\n",
    "    last_name = names[-1]\n",
    "    return first_name, last_name\n",
    "\n",
    "name = \"Meghana Munjeti\"\n",
    "name_tuple = get_first_last_name(name)\n",
    "print(name_tuple)\n"
   ]
  },
  {
   "cell_type": "markdown",
   "id": "40f73f21",
   "metadata": {},
   "source": [
    "In this example, the get_first_last_name() function is called with the name variable set to \"Meghana Mujeti\". The function extracts the first name \"Meghana\" and the last name \"Munjeti\" from the full name. The function returns a tuple containing the first name and last name.\n",
    "\n",
    "The returned tuple name_tuple is then printed, resulting in the output ('Meghana', 'Munjeti'). The tuple contains the first name \"Meghana\" as the first element and the last name \"Munjeti\" as the second element.\n",
    "\n",
    "You can use this approach to obtain a tuple containing the first name and last name from any full name provided as an argument to the get_first_last_name() function.\n"
   ]
  }
 ],
 "metadata": {
  "kernelspec": {
   "display_name": "Python 3 (ipykernel)",
   "language": "python",
   "name": "python3"
  },
  "language_info": {
   "codemirror_mode": {
    "name": "ipython",
    "version": 3
   },
   "file_extension": ".py",
   "mimetype": "text/x-python",
   "name": "python",
   "nbconvert_exporter": "python",
   "pygments_lexer": "ipython3",
   "version": "3.10.9"
  }
 },
 "nbformat": 4,
 "nbformat_minor": 5
}
